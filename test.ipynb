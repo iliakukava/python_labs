{
 "cells": [
  {
   "cell_type": "markdown",
   "metadata": {},
   "source": [
    "#### **Урок 2.1: Ввод и вывод данных. Операции с числами, строками. Форматирование**"
   ]
  },
  {
   "cell_type": "code",
   "execution_count": null,
   "metadata": {},
   "outputs": [],
   "source": [
    "print('Привет, Яндекс!')"
   ]
  },
  {
   "cell_type": "code",
   "execution_count": null,
   "metadata": {},
   "outputs": [],
   "source": [
    "name = input()\n",
    "print(\"Как Вас зовут?\")\n",
    "print(\"Привет,\", name)"
   ]
  },
  {
   "cell_type": "code",
   "execution_count": null,
   "metadata": {},
   "outputs": [],
   "source": [
    "data = input()\n",
    "print(data)\n",
    "print(data)\n",
    "print(data)"
   ]
  },
  {
   "cell_type": "code",
   "execution_count": null,
   "metadata": {},
   "outputs": [],
   "source": [
    "cash = int(input())\n",
    "print(cash - 95)"
   ]
  },
  {
   "cell_type": "code",
   "execution_count": null,
   "metadata": {},
   "outputs": [],
   "source": [
    "price = int(input())\n",
    "weight = int(input())\n",
    "cash = int(input())\n",
    "print(cash - weight * price)"
   ]
  },
  {
   "cell_type": "code",
   "execution_count": null,
   "metadata": {},
   "outputs": [],
   "source": [
    "name = str(input())\n",
    "price = int(input())\n",
    "weight = int(input())\n",
    "cash = int(input())\n",
    "print(f\"Чек\\n{name} - {weight}кг - {price}руб/кг\\nИтого: {price * weight}руб\")\n",
    "print(f\"Внесено: {cash}руб\\nСдача: {cash - weight * price}руб\")"
   ]
  },
  {
   "cell_type": "code",
   "execution_count": null,
   "metadata": {},
   "outputs": [],
   "source": [
    "numb = int(input())\n",
    "print(\"Купи слона!\\n\" * numb)"
   ]
  },
  {
   "cell_type": "code",
   "execution_count": null,
   "metadata": {},
   "outputs": [],
   "source": [
    "numb = int(input())\n",
    "phrase = str(input())\n",
    "print(f\"Я больше никогда не буду писать \\\"{phrase}\\\"!\\n\" * numb)"
   ]
  },
  {
   "cell_type": "code",
   "execution_count": null,
   "metadata": {},
   "outputs": [],
   "source": [
    "time = int(input())\n",
    "kids = int(input())\n",
    "print(int(time * kids / 2))"
   ]
  },
  {
   "cell_type": "code",
   "execution_count": null,
   "metadata": {},
   "outputs": [],
   "source": [
    "name = input()\n",
    "numb = int(input())\n",
    "print(\"Группа №\", numb // 100, \".\", sep=\"\")\n",
    "print(f\"{numb % 10}. {name}.\")\n",
    "print(f\"Шкафчик: {numb}.\")\n",
    "print(\"Кроватка: \", numb // 10 % 10, \".\", sep=\"\")"
   ]
  },
  {
   "cell_type": "code",
   "execution_count": null,
   "metadata": {},
   "outputs": [],
   "source": [
    "numb = int(input())\n",
    "a = str(numb // 1000)\n",
    "b = str(numb // 100 % 10)\n",
    "c = str(numb // 10 % 10)\n",
    "d = str(numb % 10)\n",
    "print(b + a + d + c)"
   ]
  },
  {
   "cell_type": "code",
   "execution_count": null,
   "metadata": {},
   "outputs": [],
   "source": [
    "num_1 = int(input())\n",
    "num_2 = int(input())\n",
    "a = str((num_1 // 100 + num_2 // 100) % 10)\n",
    "b = str((num_1 // 10 % 10 + num_2 // 10 % 10) % 10)\n",
    "c = str((num_1 % 10 + num_2 % 10) % 10)\n",
    "print(a + b + c)"
   ]
  },
  {
   "cell_type": "code",
   "execution_count": null,
   "metadata": {},
   "outputs": [],
   "source": [
    "kids = int(input())\n",
    "cand = int(input())\n",
    "res = int(cand // kids)\n",
    "left = str(cand - res * kids)\n",
    "print(res, \"\\n\", left, sep=\"\")"
   ]
  },
  {
   "cell_type": "code",
   "execution_count": null,
   "metadata": {},
   "outputs": [],
   "source": [
    "red = int(input())\n",
    "green = int(input())\n",
    "blue = int(input())\n",
    "print(red + blue + 1)"
   ]
  },
  {
   "cell_type": "code",
   "execution_count": null,
   "metadata": {},
   "outputs": [],
   "source": [
    "N = int(input())\n",
    "M = int(input())\n",
    "T = int(input())\n",
    "N = (N + (T + M) // 60) % 24\n",
    "M = (T + M) % 60\n",
    "print(str(N // 10) + str(N % 10) + \":\" + str(M // 10) + str(M % 10))"
   ]
  },
  {
   "cell_type": "code",
   "execution_count": null,
   "metadata": {},
   "outputs": [],
   "source": [
    "a = int(input())\n",
    "b = int(input())\n",
    "c = int(input())\n",
    "t = (b - a) / c\n",
    "print(f\"{t:.2f}\")"
   ]
  },
  {
   "cell_type": "code",
   "execution_count": null,
   "metadata": {},
   "outputs": [],
   "source": [
    "n = int(input())\n",
    "last = int(input(), 2)\n",
    "print(n + last)"
   ]
  },
  {
   "cell_type": "code",
   "execution_count": null,
   "metadata": {},
   "outputs": [],
   "source": [
    "price = int(input(), 2)\n",
    "cash = int(input())\n",
    "print(cash - price)"
   ]
  },
  {
   "cell_type": "code",
   "execution_count": null,
   "metadata": {},
   "outputs": [],
   "source": [
    "product, price, weight, cash = str(input()), int(input()), int(input()), int(input())\n",
    "dop = str(weight) + \"кг\" + \" * \" + str(price) + \"руб/кг\"\n",
    "res = str(price * weight) + \"руб\"\n",
    "print(f\"{\"Чек\":=^35}\")\n",
    "print(f\"Товар:{product: >29}\")\n",
    "print(f\"Цена:{dop: >30}\")\n",
    "print(f\"Итого:{res: >29}\")\n",
    "print(f\"Внесено:{cash: >24}руб\")\n",
    "print(f\"Сдача:{cash - price * weight: >26}руб\")\n",
    "print(\"=\" * 35)"
   ]
  },
  {
   "cell_type": "code",
   "execution_count": null,
   "metadata": {},
   "outputs": [],
   "source": [
    "n = int(input())\n",
    "m = int(input())\n",
    "k1 = int(input())\n",
    "k2 = int(input())\n",
    "x = n * (m - k2) / (k1 - k2)\n",
    "print(int(x), int(n - x))"
   ]
  },
  {
   "cell_type": "markdown",
   "metadata": {},
   "source": [
    "### **Урок 2.2: условный оператор**"
   ]
  },
  {
   "cell_type": "code",
   "execution_count": null,
   "metadata": {},
   "outputs": [],
   "source": [
    "name = str(input())\n",
    "mood = str(input())\n",
    "print(\"Как Вас зовут?\")\n",
    "print(\"Здравствуйте, \", name, \"!\", sep=\"\")\n",
    "print(\"Как дела?\")\n",
    "if mood == \"хорошо\":\n",
    "    print(\"Я за вас рада!\")\n",
    "else:\n",
    "    print(\"Всё наладится!\")"
   ]
  },
  {
   "cell_type": "code",
   "execution_count": null,
   "metadata": {},
   "outputs": [],
   "source": [
    "speedp = int(input())\n",
    "speedv = int(input())\n",
    "if speedv > speedp:\n",
    "    print(\"Вася\")\n",
    "elif speedv < speedp:\n",
    "    print(\"Петя\")"
   ]
  },
  {
   "cell_type": "code",
   "execution_count": null,
   "metadata": {},
   "outputs": [],
   "source": [
    "p = int(input())\n",
    "v = int(input())\n",
    "t = int(input())\n",
    "if p > v and p > t:\n",
    "    print(\"Петя\")\n",
    "elif v > p and v > t:\n",
    "    print(\"Вася\")\n",
    "else:\n",
    "    print(\"Толя\")"
   ]
  },
  {
   "cell_type": "code",
   "execution_count": null,
   "metadata": {},
   "outputs": [],
   "source": [
    "p = int(input())\n",
    "v = int(input())\n",
    "t = int(input())\n",
    "if p > v and p > t:\n",
    "    if v > t:\n",
    "        print(\"1. Петя\\n2. Вася\\n3. Толя\")\n",
    "    else:\n",
    "        print(\"1. Петя\\n2. Толя\\n3. Вася\")\n",
    "elif v > p and v > t:\n",
    "    if p > t:\n",
    "        print(\"1. Вася\\n2. Петя\\n3. Толя\")\n",
    "    else:\n",
    "        print(\"1. Вася\\n2. Толя\\n3. Петя\")\n",
    "elif t > p and t > v:\n",
    "    if p > v:\n",
    "        print(\"1. Толя\\n2. Петя\\n3. Вася\")\n",
    "    else:\n",
    "        print(\"1. Толя\\n2. Вася\\n3. Петя\")"
   ]
  },
  {
   "cell_type": "code",
   "execution_count": null,
   "metadata": {},
   "outputs": [],
   "source": [
    "p = 6\n",
    "v = 12\n",
    "n = int(input())\n",
    "m = int(input())\n",
    "if p + n > v + m:\n",
    "    print(\"Петя\")\n",
    "else:\n",
    "    print(\"Вася\")"
   ]
  },
  {
   "cell_type": "code",
   "execution_count": null,
   "metadata": {},
   "outputs": [],
   "source": [
    "year = int(input())\n",
    "if year % 4 == 0 and (year % 100 != 0 or year % 400 == 0):\n",
    "    print(\"YES\")\n",
    "else: \n",
    "    print(\"NO\")"
   ]
  },
  {
   "cell_type": "code",
   "execution_count": null,
   "metadata": {},
   "outputs": [],
   "source": [
    "numb = int(input())\n",
    "a = str(numb // 1000)\n",
    "b = str(numb // 100 % 10)\n",
    "c = str(numb // 10 % 10)\n",
    "d = str(numb % 10)\n",
    "if d + c + b + a == str(numb):\n",
    "    print(\"YES\")\n",
    "else:\n",
    "    print(\"NO\")"
   ]
  },
  {
   "cell_type": "code",
   "execution_count": null,
   "metadata": {},
   "outputs": [],
   "source": [
    "text = input()\n",
    "if \"зайка\" in text:\n",
    "    print(\"YES\")\n",
    "else:\n",
    "    print(\"NO\")"
   ]
  },
  {
   "cell_type": "code",
   "execution_count": null,
   "metadata": {},
   "outputs": [],
   "source": [
    "a = input()\n",
    "b = input()\n",
    "c = input()\n",
    "print(min(a, b, c))"
   ]
  },
  {
   "cell_type": "code",
   "execution_count": null,
   "metadata": {},
   "outputs": [],
   "source": [
    "pas = int(input())\n",
    "n = str(pas % 10 + pas // 10 % 10)\n",
    "m = str(pas // 100 + pas // 10 % 10)\n",
    "print(max(int(n), int(m)), min(int(n), int(m)), sep=\"\")"
   ]
  },
  {
   "cell_type": "code",
   "execution_count": null,
   "metadata": {},
   "outputs": [],
   "source": [
    "num = int(input())\n",
    "a = num // 100\n",
    "b = num // 10 % 10\n",
    "c = num % 10\n",
    "maxn = max(a, b, c)\n",
    "minn = min(a, b, c)\n",
    "medn = (a + b + c) - (maxn + minn)\n",
    "if maxn + minn == medn * 2:\n",
    "    print(\"YES\")\n",
    "else:\n",
    "    print(\"NO\")"
   ]
  },
  {
   "cell_type": "code",
   "execution_count": null,
   "metadata": {},
   "outputs": [],
   "source": [
    "a = int(input())\n",
    "b = int(input())\n",
    "c = int(input())\n",
    "a1 = a // 10\n",
    "a2 = a % 10\n",
    "b1 = b // 10\n",
    "b2 = b % 10\n",
    "c1 = c // 10\n",
    "c2 = c % 10\n",
    "if a1 == b1 == c1:\n",
    "    print(a1)\n",
    "else:\n",
    "    print(a2)"
   ]
  },
  {
   "cell_type": "code",
   "execution_count": null,
   "metadata": {},
   "outputs": [],
   "source": [
    "num = int(input())\n",
    "a = num // 100\n",
    "b = num // 10 % 10\n",
    "c = num % 10\n",
    "maxn = max(a, b, c)\n",
    "minn = min(a, b, c)\n",
    "medn = (a + b + c) - (maxn + minn)\n",
    "if minn == 0:\n",
    "    print(medn, minn, ' ', maxn, medn, sep=\"\")\n",
    "else:\n",
    "    print(minn, medn, ' ', maxn, medn, sep=\"\")"
   ]
  },
  {
   "cell_type": "code",
   "execution_count": null,
   "metadata": {},
   "outputs": [],
   "source": [
    "a = int(input())\n",
    "b = int(input())\n",
    "a1 = a // 10\n",
    "a2 = a % 10\n",
    "b1 = b // 10\n",
    "b2 = b % 10\n",
    "maxn = max(a1, a2, b1, b2)\n",
    "minn = min(a1, a2, b1, b2)\n",
    "medn = (a1 + a2 + b1 + b2 - maxn - minn) % 10\n",
    "print(maxn, medn, minn, sep=\"\")"
   ]
  },
  {
   "cell_type": "code",
   "execution_count": null,
   "metadata": {},
   "outputs": [],
   "source": [
    "p = int(input())\n",
    "v = int(input())\n",
    "t = int(input())\n",
    "if p > v and p > t:\n",
    "    first = \"Петя\"\n",
    "    if v > t:\n",
    "        second = \"Вася\"\n",
    "        third = \"Толя\"\n",
    "    else:\n",
    "        second = \"Толя\"\n",
    "        third = \"Вася\"\n",
    "if v > p and v > t:\n",
    "    first = \"Вася\"\n",
    "    if p > t:\n",
    "        second = \"Петя\"\n",
    "        third = \"Толя\"\n",
    "    else:\n",
    "        second = \"Толя\"\n",
    "        third = \"Петя\"\n",
    "if t > p and t > v:\n",
    "    first = \"Толя\"\n",
    "    if p > v:\n",
    "        second = \"Петя\"\n",
    "        third = \"Вася\"\n",
    "    else:\n",
    "        second = \"Вася\"\n",
    "        third = \"Петя\"\n",
    "print(f\"{first: ^24}\")\n",
    "print(f\"{second: ^8}\")\n",
    "print(' ' * 15, f\"{third: ^8}\")\n",
    "print(f\"{'II': ^8}{'I': ^8}{'III': ^8}\")"
   ]
  },
  {
   "cell_type": "code",
   "execution_count": null,
   "metadata": {},
   "outputs": [],
   "source": [
    "a = float(input())\n",
    "b = float(input())\n",
    "c = float(input())\n",
    "if a == 0:\n",
    "    if b == 0:\n",
    "        if c == 0:\n",
    "            print(\"Infinite solutions\")\n",
    "        else:\n",
    "            print(\"No solution\")\n",
    "    else:\n",
    "        print(-c / b)\n",
    "else:\n",
    "    d = float(b ** 2 - (4 * a * c))\n",
    "    if d < 0:\n",
    "        print(\"No solution\")\n",
    "    elif d == 0:\n",
    "        print(- b / (2 * a))\n",
    "    else:\n",
    "        x1 = (-b + d ** 0.5) / (2 * a)\n",
    "        x2 = (-b - d ** 0.5) * 0.5 / a\n",
    "        if x1 > x2:\n",
    "            print(f\"{x2} {x1}\")\n",
    "        else:\n",
    "            print(f\"{x1} {x2}\")"
   ]
  },
  {
   "cell_type": "code",
   "execution_count": null,
   "metadata": {},
   "outputs": [],
   "source": [
    "a = int(input())\n",
    "b = int(input())\n",
    "c = int(input())\n",
    "gip = max(a, b, c)\n",
    "kat1 = min(a, b, c)\n",
    "kat2 = a + b + c - gip - kat1\n",
    "if gip ** 2 == kat1 ** 2 + kat2 ** 2:\n",
    "    print(\"100%\")\n",
    "elif gip ** 2 > kat1 ** 2 + kat2 ** 2:\n",
    "    print(\"велика\")\n",
    "else:\n",
    "    print(\"крайне мала\")"
   ]
  },
  {
   "cell_type": "code",
   "execution_count": null,
   "metadata": {},
   "outputs": [],
   "source": [
    "x = float(input())\n",
    "y = float(input())\n",
    "r = 10\n",
    "if x ** 2 + y ** 2 > r ** 2:\n",
    "    print(\"Вы вышли в море и рискуете быть съеденным акулой!\")\n",
    "elif x >= 0 and y >= 0 and x ** 2 + y ** 2 <= 5 ** 2:\n",
    "    print(\"Опасность! Покиньте зону как можно скорее!\")\n",
    "elif -4 <= x <= 0 and 0 <= y <= 5:\n",
    "    print(\"Опасность! Покиньте зону как можно скорее!\")\n",
    "elif -7 <= x <= -4 and 0 <= y <= 5 and y < 5 / 3 * x + 35 / 3:\n",
    "    print(\"Опасность! Покиньте зону как можно скорее!\")\n",
    "elif y < 0 and y >= (0.25 * x ** 2 + 0.5 * x - 9):\n",
    "    print(\"Опасность! Покиньте зону как можно скорее!\")\n",
    "else:\n",
    "    print(\"Зона безопасна. Продолжайте работу.\")"
   ]
  },
  {
   "cell_type": "code",
   "execution_count": null,
   "metadata": {},
   "outputs": [],
   "source": [
    "a = str(input())\n",
    "b = str(input())\n",
    "c = str(input())\n",
    "if a > b and a > c:\n",
    "    maxs = a\n",
    "    if b > c:\n",
    "        meds = b\n",
    "        mins = c\n",
    "    else:\n",
    "        meds = c\n",
    "        mins = b\n",
    "elif c > b and c > a:\n",
    "    maxs = c\n",
    "    if b > a:\n",
    "        meds = b\n",
    "        mins = a\n",
    "    else:\n",
    "        meds = a\n",
    "        mins = b\n",
    "else:\n",
    "    maxs = b\n",
    "    if a > c:\n",
    "        meds = a\n",
    "        mins = c\n",
    "    else:\n",
    "        meds = c\n",
    "        mins = a\n",
    "if \"зайка\" in mins:\n",
    "    print(mins, len(mins))\n",
    "elif \"зайка\" in meds:\n",
    "    print(meds, len(meds))\n",
    "elif \"зайка\" in maxs:\n",
    "    print(maxs, len(maxs))"
   ]
  },
  {
   "cell_type": "markdown",
   "metadata": {},
   "source": [
    "## 2.3. Циклы"
   ]
  },
  {
   "cell_type": "code",
   "execution_count": null,
   "metadata": {},
   "outputs": [],
   "source": [
    "while (n := input()) != \"Три!\":\n",
    "    print('Режим ожидания...')\n",
    "print('Ёлочка, гори!') "
   ]
  }
 ],
 "metadata": {
  "kernelspec": {
   "display_name": "Python 3",
   "language": "python",
   "name": "python3"
  },
  "language_info": {
   "codemirror_mode": {
    "name": "ipython",
    "version": 3
   },
   "file_extension": ".py",
   "mimetype": "text/x-python",
   "name": "python",
   "nbconvert_exporter": "python",
   "pygments_lexer": "ipython3",
   "version": "3.12.4"
  }
 },
 "nbformat": 4,
 "nbformat_minor": 2
}
